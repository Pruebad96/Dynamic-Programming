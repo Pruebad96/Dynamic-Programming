{
 "cells": [
  {
   "cell_type": "code",
   "execution_count": 1,
   "metadata": {
    "collapsed": true
   },
   "outputs": [],
   "source": [
    "#Let's include some common libraries\n",
    "import numpy as np\n",
    "import pandas as pd\n",
    "import time\n",
    "import matplotlib\n",
    "import matplotlib.pyplot as plt\n",
    "from random import randint,gauss,random\n",
    "matplotlib.style.use('bmh')\n",
    "%matplotlib inline"
   ]
  },
  {
   "cell_type": "markdown",
   "metadata": {},
   "source": [
    "<h1 style=\"text-align:center\">Dynamic Programming</h1>\n",
    "<img style=\"margin-left:170px\" src=\"https://he-s3.s3.amazonaws.com/media/uploads/6b68f98.png\">"
   ]
  },
  {
   "cell_type": "markdown",
   "metadata": {},
   "source": [
    "<h1 style=\"text-align:center\">4x4 gridworld</h1>\n",
    "<img style=\"margin-left:290px\" src=\"https://encrypted-tbn0.gstatic.com/images?q=tbn:ANd9GcQoUQ2-BGBKl0p5LkjvQtpXgANMgbwPgzmQ5uRNqtwLnuHgjCSX3w\">"
   ]
  },
  {
   "cell_type": "code",
   "execution_count": 2,
   "metadata": {},
   "outputs": [
    {
     "data": {
      "text/html": [
       "<div>\n",
       "<style>\n",
       "    .dataframe thead tr:only-child th {\n",
       "        text-align: right;\n",
       "    }\n",
       "\n",
       "    .dataframe thead th {\n",
       "        text-align: left;\n",
       "    }\n",
       "\n",
       "    .dataframe tbody tr th {\n",
       "        vertical-align: top;\n",
       "    }\n",
       "</style>\n",
       "<table border=\"1\" class=\"dataframe\">\n",
       "  <thead>\n",
       "    <tr style=\"text-align: right;\">\n",
       "      <th></th>\n",
       "      <th>0</th>\n",
       "      <th>1</th>\n",
       "      <th>2</th>\n",
       "      <th>3</th>\n",
       "    </tr>\n",
       "  </thead>\n",
       "  <tbody>\n",
       "    <tr>\n",
       "      <th>0</th>\n",
       "      <td>1.0</td>\n",
       "      <td>0.0</td>\n",
       "      <td>0.0</td>\n",
       "      <td>0.0</td>\n",
       "    </tr>\n",
       "    <tr>\n",
       "      <th>1</th>\n",
       "      <td>0.0</td>\n",
       "      <td>0.0</td>\n",
       "      <td>0.0</td>\n",
       "      <td>0.0</td>\n",
       "    </tr>\n",
       "    <tr>\n",
       "      <th>2</th>\n",
       "      <td>0.0</td>\n",
       "      <td>0.0</td>\n",
       "      <td>0.0</td>\n",
       "      <td>0.0</td>\n",
       "    </tr>\n",
       "    <tr>\n",
       "      <th>3</th>\n",
       "      <td>0.0</td>\n",
       "      <td>0.0</td>\n",
       "      <td>0.0</td>\n",
       "      <td>1.0</td>\n",
       "    </tr>\n",
       "  </tbody>\n",
       "</table>\n",
       "</div>"
      ],
      "text/plain": [
       "     0    1    2    3\n",
       "0  1.0  0.0  0.0  0.0\n",
       "1  0.0  0.0  0.0  0.0\n",
       "2  0.0  0.0  0.0  0.0\n",
       "3  0.0  0.0  0.0  1.0"
      ]
     },
     "execution_count": 2,
     "metadata": {},
     "output_type": "execute_result"
    }
   ],
   "source": [
    "#Create the gridworld matrix:\n",
    "gridWorld = np.zeros((4,4))\n",
    "gridWorld[0][0] = 1\n",
    "gridWorld[3][3] = 1\n",
    "#Pandas representation of the gridworld\n",
    "gridWorld_db = pd.DataFrame(gridWorld)\n",
    "#Show the representation\n",
    "gridWorld_db"
   ]
  },
  {
   "cell_type": "code",
   "execution_count": 3,
   "metadata": {
    "collapsed": true
   },
   "outputs": [],
   "source": [
    "#State Vector:\n",
    "S = np.array([0,1,2,3,4,5,6,7,8,9,10,11,12,13,14,15])\n",
    "A = np.array(['up','down','right','left'])\n",
    "#Dynamics of the environment:\n",
    "def map_s_to_pos(s):\n",
    "    nav = 0\n",
    "    for i in range(4):\n",
    "        for j in range(4):\n",
    "            if(nav==s):\n",
    "                return i,j\n",
    "            nav += 1\n",
    "def prob(s_pos,a,s):\n",
    "    if(s==15 or s==0):\n",
    "        return 0\n",
    "    i,j = map_s_to_pos(s)\n",
    "    i_pos,j_pos = map_s_to_pos(s_pos)\n",
    "    if(a=='up' and ((i_pos==i-1) or (i==0 and i_pos==i)) and (j_pos==j)):\n",
    "        return 1\n",
    "    elif(a=='down' and ((i_pos==i+1) or (i==3 and i_pos==i)) and (j_pos==j)):\n",
    "        return 1\n",
    "    elif(a=='right' and ((j_pos==j+1) or (j==3 and j_pos==j)) and (i_pos==i)):\n",
    "        return 1\n",
    "    elif(a=='left' and ((j_pos==j-1) or (j==0 and j_pos==j)) and (i_pos==i)):\n",
    "        return 1\n",
    "    else:\n",
    "        return 0            "
   ]
  },
  {
   "cell_type": "markdown",
   "metadata": {},
   "source": [
    "<h2>Iterative Policy Evaluation</h2>"
   ]
  },
  {
   "cell_type": "code",
   "execution_count": 4,
   "metadata": {
    "collapsed": true
   },
   "outputs": [],
   "source": [
    "#Probability of choosing an action given a state:\n",
    "def policy_prob(s,a):\n",
    "    return 0.25\n",
    "#Given Reward\n",
    "def reward(s,a):\n",
    "    if ((s==14) and (a=='right')):\n",
    "        return 1\n",
    "    elif((s==11) and (a=='down')):\n",
    "        return 1\n",
    "    elif((s==1) and (a=='left')):\n",
    "        return 1\n",
    "    elif((s==4) and (a=='up')):\n",
    "        return 1\n",
    "    else:\n",
    "        return -1"
   ]
  },
  {
   "cell_type": "code",
   "execution_count": 7,
   "metadata": {},
   "outputs": [
    {
     "data": {
      "text/plain": [
       "[<matplotlib.lines.Line2D at 0x24447a6f5c0>]"
      ]
     },
     "execution_count": 7,
     "metadata": {},
     "output_type": "execute_result"
    },
    {
     "data": {
      "image/png": "[encoded data removed]",
      "text/plain": [
       "<matplotlib.figure.Figure at 0x2444783be48>"
      ]
     },
     "metadata": {},
     "output_type": "display_data"
    }
   ],
   "source": [
    "#Choose arbitrarily the action-values for all states, except vtarget\n",
    "#Here we assigned 0 to all values:\n",
    "v = np.zeros(S.shape[0])\n",
    "v_ant = np.zeros(v.shape[0])\n",
    "#Small positive number (accuracy of the aproximation)\n",
    "theta = 0.01\n",
    "#Discounted ratio between consecutive rewards\n",
    "gamma = 0.7\n",
    "#Error in the current aproximation\n",
    "delta = 100\n",
    "delta_plot=np.zeros(25)\n",
    "#Number of iterations\n",
    "epoch = 0\n",
    "while(delta>theta):\n",
    "    v_ant = np.copy(v)\n",
    "    for s in S:\n",
    "        crrn_result = np.zeros(A.shape[0])\n",
    "        i = 0\n",
    "        for a in A:\n",
    "            for s_pos in S:\n",
    "                if(not (s==0 or s==15)):\n",
    "                    crrn_result[i] += prob(s_pos,a,s)*(reward(s,a)+gamma*v[s_pos])\n",
    "            crrn_result[i] *= policy_prob(s,a)\n",
    "            i +=1\n",
    "        v[s] = np.sum(crrn_result)     \n",
    "    delta = np.amax(np.abs(v_ant-v))\n",
    "    delta_plot[epoch] = delta\n",
    "    epoch += 1\n",
    "plt.figure()\n",
    "plt.plot(np.arange(epoch),delta_plot[0:epoch])"
   ]
  },
  {
   "cell_type": "code",
   "execution_count": 8,
   "metadata": {},
   "outputs": [
    {
     "data": {
      "text/html": [
       "<div>\n",
       "<style>\n",
       "    .dataframe thead tr:only-child th {\n",
       "        text-align: right;\n",
       "    }\n",
       "\n",
       "    .dataframe thead th {\n",
       "        text-align: left;\n",
       "    }\n",
       "\n",
       "    .dataframe tbody tr th {\n",
       "        vertical-align: top;\n",
       "    }\n",
       "</style>\n",
       "<table border=\"1\" class=\"dataframe\">\n",
       "  <thead>\n",
       "    <tr style=\"text-align: right;\">\n",
       "      <th></th>\n",
       "      <th>0</th>\n",
       "      <th>1</th>\n",
       "      <th>2</th>\n",
       "      <th>3</th>\n",
       "    </tr>\n",
       "  </thead>\n",
       "  <tbody>\n",
       "    <tr>\n",
       "      <th>0</th>\n",
       "      <td>0.000000</td>\n",
       "      <td>-1.768331</td>\n",
       "      <td>-2.855326</td>\n",
       "      <td>-3.072220</td>\n",
       "    </tr>\n",
       "    <tr>\n",
       "      <th>1</th>\n",
       "      <td>-1.768331</td>\n",
       "      <td>-2.640792</td>\n",
       "      <td>-2.923632</td>\n",
       "      <td>-2.858920</td>\n",
       "    </tr>\n",
       "    <tr>\n",
       "      <th>2</th>\n",
       "      <td>-2.855326</td>\n",
       "      <td>-2.923632</td>\n",
       "      <td>-2.643210</td>\n",
       "      <td>-1.772843</td>\n",
       "    </tr>\n",
       "    <tr>\n",
       "      <th>3</th>\n",
       "      <td>-3.072220</td>\n",
       "      <td>-2.858920</td>\n",
       "      <td>-1.772843</td>\n",
       "      <td>0.000000</td>\n",
       "    </tr>\n",
       "  </tbody>\n",
       "</table>\n",
       "</div>"
      ],
      "text/plain": [
       "          0         1         2         3\n",
       "0  0.000000 -1.768331 -2.855326 -3.072220\n",
       "1 -1.768331 -2.640792 -2.923632 -2.858920\n",
       "2 -2.855326 -2.923632 -2.643210 -1.772843\n",
       "3 -3.072220 -2.858920 -1.772843  0.000000"
      ]
     },
     "execution_count": 8,
     "metadata": {},
     "output_type": "execute_result"
    }
   ],
   "source": [
    "#Let's show the stimated values in the gridworld:\n",
    "k = 0\n",
    "valWorld = np.zeros(gridWorld.shape)\n",
    "for s in S:\n",
    "    i,j = map_s_to_pos(s)\n",
    "    valWorld[i][j] = v[k]\n",
    "    k +=1\n",
    "#Pandas representation of the gridworld\n",
    "gridWorld_db = pd.DataFrame(valWorld)\n",
    "#Show the representation\n",
    "gridWorld_db"
   ]
  },
  {
   "cell_type": "markdown",
   "metadata": {},
   "source": [
    "<h2>Policy Iteration</h2>"
   ]
  },
  {
   "cell_type": "code",
   "execution_count": 9,
   "metadata": {},
   "outputs": [],
   "source": [
    "#Policy that maps a state to an action\n",
    "policy = np.empty(S.shape[0],dtype='<U5')\n",
    "#Random assignation\n",
    "for i in range(policy.shape[0]):\n",
    "    policy[i] = A[randint(0,A.shape[0]-1)]\n",
    "policy[0] = 'non-a'\n",
    "policy[15] = 'non-a'"
   ]
  },
  {
   "cell_type": "code",
   "execution_count": 10,
   "metadata": {},
   "outputs": [
    {
     "data": {
      "text/html": [
       "<div>\n",
       "<style>\n",
       "    .dataframe thead tr:only-child th {\n",
       "        text-align: right;\n",
       "    }\n",
       "\n",
       "    .dataframe thead th {\n",
       "        text-align: left;\n",
       "    }\n",
       "\n",
       "    .dataframe tbody tr th {\n",
       "        vertical-align: top;\n",
       "    }\n",
       "</style>\n",
       "<table border=\"1\" class=\"dataframe\">\n",
       "  <thead>\n",
       "    <tr style=\"text-align: right;\">\n",
       "      <th></th>\n",
       "      <th>0</th>\n",
       "      <th>1</th>\n",
       "      <th>2</th>\n",
       "      <th>3</th>\n",
       "    </tr>\n",
       "  </thead>\n",
       "  <tbody>\n",
       "    <tr>\n",
       "      <th>0</th>\n",
       "      <td>non-a</td>\n",
       "      <td>right</td>\n",
       "      <td>down</td>\n",
       "      <td>up</td>\n",
       "    </tr>\n",
       "    <tr>\n",
       "      <th>1</th>\n",
       "      <td>right</td>\n",
       "      <td>right</td>\n",
       "      <td>left</td>\n",
       "      <td>right</td>\n",
       "    </tr>\n",
       "    <tr>\n",
       "      <th>2</th>\n",
       "      <td>left</td>\n",
       "      <td>left</td>\n",
       "      <td>up</td>\n",
       "      <td>down</td>\n",
       "    </tr>\n",
       "    <tr>\n",
       "      <th>3</th>\n",
       "      <td>left</td>\n",
       "      <td>up</td>\n",
       "      <td>down</td>\n",
       "      <td>non-a</td>\n",
       "    </tr>\n",
       "  </tbody>\n",
       "</table>\n",
       "</div>"
      ],
      "text/plain": [
       "       0      1     2      3\n",
       "0  non-a  right  down     up\n",
       "1  right  right  left  right\n",
       "2   left   left    up   down\n",
       "3   left     up  down  non-a"
      ]
     },
     "execution_count": 10,
     "metadata": {},
     "output_type": "execute_result"
    }
   ],
   "source": [
    "#Show initial random policy\n",
    "k = 0\n",
    "polWorld = np.empty(gridWorld.shape,dtype='<U5')\n",
    "for s in S:\n",
    "    i,j = map_s_to_pos(s)\n",
    "    polWorld[i][j] = policy[k]\n",
    "    k +=1\n",
    "policy_db = pd.DataFrame(polWorld)\n",
    "policy_db"
   ]
  },
  {
   "cell_type": "code",
   "execution_count": null,
   "metadata": {},
   "outputs": [],
   "source": [
    "#Choose arbitrarily the action-values for all states, except vtarget\n",
    "#Here we assigned 0 to all values:\n",
    "v = np.zeros(S.shape[0])\n",
    "v_ant = np.zeros(v.shape[0])\n",
    "#Small positive number (accuracy of the aproximation)\n",
    "theta = 0.01\n",
    "#Discounted ratio between consecutive rewards\n",
    "gamma = 0.7\n",
    "#Error in the current aproximation\n",
    "delta = 100\n",
    "delta_plot=np.zeros(200)\n",
    "#Number of iterations\n",
    "epoch = 0\n",
    "policy_stable = False\n",
    "while(not policy_stable):\n",
    "    while(delta>theta):\n",
    "        v_ant = np.copy(v)\n",
    "        for s in S:\n",
    "            crrn_result = 0\n",
    "            for s_pos in S:\n",
    "                if(not (s==0 or s==15)):\n",
    "                    crrn_result += prob(s_pos,policy[s],s)*(reward(s,policy[s]) + gamma*v[s_pos])\n",
    "            v[s] = crrn_result \n",
    "        delta = np.amax(np.abs(v_ant - v))\n",
    "        delta_plot[epoch] = delta\n",
    "        epoch += 1\n",
    "    delta = 100\n",
    "    policy_stable = True\n",
    "    for s in S:\n",
    "        old_action = policy[s]\n",
    "        crrn_result = np.zeros(A.shape[0])\n",
    "        i = 0\n",
    "        for a in A:\n",
    "            for s_pos in S:\n",
    "                if(not (s==0 or s==15)):\n",
    "                    crrn_result[i] += prob(s_pos,a,s)*(reward(s,a) + gamma*v[s_pos])\n",
    "            i +=1\n",
    "        if(not (s==0 or s==15)):\n",
    "            #print(\"--------STATE----------\")\n",
    "            #print(s)\n",
    "            #print(\"------ACTION VALUES------\")\n",
    "            #print(crrn_result)\n",
    "            policy[s] = A[np.argmax(crrn_result)]\n",
    "            #print(\"------POLICY UPDATE------\")\n",
    "            #print(\"------\" + old_action + \" to \" + policy[s] + \"------\")\n",
    "        if (not old_action==policy[s]):\n",
    "            policy_stable = False\n",
    "    #print(\"-------CURRENT POST - POLICY----------\")\n",
    "    #print(policy)\n",
    "plt.figure()\n",
    "plt.plot(np.arange(epoch),delta_plot[0:epoch])"
   ]
  },
  {
   "cell_type": "code",
   "execution_count": null,
   "metadata": {},
   "outputs": [],
   "source": [
    "#Show final policy\n",
    "k = 0\n",
    "polWorld = np.empty(gridWorld.shape,dtype='<U5')\n",
    "for s in S:\n",
    "    i,j = map_s_to_pos(s)\n",
    "    polWorld[i][j] = policy[k]\n",
    "    k +=1\n",
    "policy_db = pd.DataFrame(polWorld)\n",
    "policy_db"
   ]
  },
  {
   "cell_type": "markdown",
   "metadata": {},
   "source": [
    "<h2>Value Iteration</h2>"
   ]
  },
  {
   "cell_type": "code",
   "execution_count": 11,
   "metadata": {},
   "outputs": [
    {
     "data": {
      "text/plain": [
       "[<matplotlib.lines.Line2D at 0x24447d78a20>]"
      ]
     },
     "execution_count": 11,
     "metadata": {},
     "output_type": "execute_result"
    },
    {
     "data": {
      "image/png": "[encoded data removed]",
      "text/plain": [
       "<matplotlib.figure.Figure at 0x244478905f8>"
      ]
     },
     "metadata": {},
     "output_type": "display_data"
    }
   ],
   "source": [
    "#Choose arbitrarily the action-values for all states, except vtarget\n",
    "#Here we assigned 0 to all values:\n",
    "v = np.zeros(S.shape[0])\n",
    "v_ant = np.zeros(v.shape[0])\n",
    "#Small positive number (accuracy of the aproximation)\n",
    "theta = 0.01\n",
    "#Discounted ratio between consecutive rewards\n",
    "gamma = 0.7\n",
    "#Error in the current aproximation\n",
    "delta = 100\n",
    "delta_plot=np.zeros(25)\n",
    "#Number of iterations\n",
    "epoch = 0\n",
    "while(delta>theta):\n",
    "    v_ant = np.copy(v)\n",
    "    for s in S:\n",
    "        crrn_result = np.zeros(A.shape[0])\n",
    "        i = 0\n",
    "        for a in A:\n",
    "            for s_pos in S:\n",
    "                if(not (s==0 or s==15)):\n",
    "                    crrn_result[i] += prob(s_pos,a,s)*(reward(s,a)+gamma*v[s_pos])\n",
    "            i +=1\n",
    "        v[s] = np.amax(crrn_result)\n",
    "        policy[s] = A[np.argmax(crrn_result)]\n",
    "    delta = np.amax(np.abs(v_ant-v))\n",
    "    delta_plot[epoch] = delta\n",
    "    epoch += 1\n",
    "plt.figure()\n",
    "plt.plot(np.arange(epoch),delta_plot[0:epoch])"
   ]
  },
  {
   "cell_type": "code",
   "execution_count": 12,
   "metadata": {},
   "outputs": [
    {
     "data": {
      "text/html": [
       "<div>\n",
       "<style>\n",
       "    .dataframe thead tr:only-child th {\n",
       "        text-align: right;\n",
       "    }\n",
       "\n",
       "    .dataframe thead th {\n",
       "        text-align: left;\n",
       "    }\n",
       "\n",
       "    .dataframe tbody tr th {\n",
       "        vertical-align: top;\n",
       "    }\n",
       "</style>\n",
       "<table border=\"1\" class=\"dataframe\">\n",
       "  <thead>\n",
       "    <tr style=\"text-align: right;\">\n",
       "      <th></th>\n",
       "      <th>0</th>\n",
       "      <th>1</th>\n",
       "      <th>2</th>\n",
       "      <th>3</th>\n",
       "    </tr>\n",
       "  </thead>\n",
       "  <tbody>\n",
       "    <tr>\n",
       "      <th>0</th>\n",
       "      <td>up</td>\n",
       "      <td>left</td>\n",
       "      <td>left</td>\n",
       "      <td>down</td>\n",
       "    </tr>\n",
       "    <tr>\n",
       "      <th>1</th>\n",
       "      <td>up</td>\n",
       "      <td>up</td>\n",
       "      <td>up</td>\n",
       "      <td>down</td>\n",
       "    </tr>\n",
       "    <tr>\n",
       "      <th>2</th>\n",
       "      <td>up</td>\n",
       "      <td>up</td>\n",
       "      <td>down</td>\n",
       "      <td>down</td>\n",
       "    </tr>\n",
       "    <tr>\n",
       "      <th>3</th>\n",
       "      <td>up</td>\n",
       "      <td>right</td>\n",
       "      <td>right</td>\n",
       "      <td>up</td>\n",
       "    </tr>\n",
       "  </tbody>\n",
       "</table>\n",
       "</div>"
      ],
      "text/plain": [
       "    0      1      2     3\n",
       "0  up   left   left  down\n",
       "1  up     up     up  down\n",
       "2  up     up   down  down\n",
       "3  up  right  right    up"
      ]
     },
     "execution_count": 12,
     "metadata": {},
     "output_type": "execute_result"
    }
   ],
   "source": [
    "#Show final policy\n",
    "k = 0\n",
    "polWorld = np.empty(gridWorld.shape,dtype='<U5')\n",
    "for s in S:\n",
    "    i,j = map_s_to_pos(s)\n",
    "    polWorld[i][j] = policy[k]\n",
    "    k +=1\n",
    "policy_db = pd.DataFrame(polWorld)\n",
    "policy_db"
   ]
  },
  {
   "cell_type": "code",
   "execution_count": null,
   "metadata": {
    "collapsed": true
   },
   "outputs": [],
   "source": []
  }
 ],
 "metadata": {
  "kernelspec": {
   "display_name": "Python 3",
   "language": "python",
   "name": "python3"
  },
  "language_info": {
   "codemirror_mode": {
    "name": "ipython",
    "version": 3
   },
   "file_extension": ".py",
   "mimetype": "text/x-python",
   "name": "python",
   "nbconvert_exporter": "python",
   "pygments_lexer": "ipython3",
   "version": "3.6.2"
  }
 },
 "nbformat": 4,
 "nbformat_minor": 2
}
